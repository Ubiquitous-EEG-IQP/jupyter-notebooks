{
 "cells": [
  {
   "cell_type": "markdown",
   "metadata": {},
   "source": [
    "# Mind Wandering\n",
    "This notebook documents the mind wandering VR experiment in conjunction with biosignalsplux EEG and fNIRS sensor data.\n",
    "\n",
    "## Experiment\n",
    "\n",
    "The experiment induces and measures mind wandering by having the subject identify misspelled words in a long text. When a subject does not identify a misspelled word, we can say that they are not focused and consider them to be \"mind-wandering\" at that point in the experiment. The experiment controller uses eye tracking to watch the user's vision, so we can tracke exactly where they are in the text throughout the experiment. \n",
    "\n",
    "For the subject, the sequence of the experiment is as follows (the subject is wearing a VR headset with eye tracking enabled):\n",
    "\n",
    "1. Read the tutorial. The tutorial explains the experiment and the controls.\n",
    "2. Perform trial run. This is the same as the actual experiment, except it is much shorter and there are no misspelled words. It is just a sandbox for the subject to get used to the reading pace and the controls for marking words as misspelled.\n",
    "3. Read full text. This is where the bulk of the experiment happens. It takes roughly 20 minutes to get through the full text.\n",
    "4. Answer questions. There are a couple multiple choice questions at the end of the experiment for the subject to answer. The responses are recorded in a json file.\n",
    "\n",
    "## Images\n",
    "\n",
    "Below are two images from the subject's perspective in VR. Note that since the subject is in VR these look slightly warped.\n",
    "\n",
    "![Reading](assets/reading.jpg \"Regular Reading\")\n",
    "\n",
    "*Figure 1: An example of what the user might see during the experiment*\n",
    "\n",
    "![Misspelled](assets/misspelled.jpg \"Misspelled Word\")\n",
    "\n",
    "*Figure 2: The user marked the word \"potter\" as misspelled*\n",
    "\n",
    "## Example Data and Processing\n",
    "\n",
    "This notebook contains data from an example run of the experiment. Reza did this with the plux EEG and fNIRS sensors on him. The EEG was set with the active electrode at F7 and the reference at Fp1. The fNIRS was set at the middle of the browline on Fpz."
   ]
  },
  {
   "cell_type": "code",
   "execution_count": null,
   "metadata": {},
   "outputs": [],
   "source": [
    "import pandas as pd\n",
    "import numpy as np\n",
    "import json\n",
    "import datetime as dt\n",
    "import biosignalsnotebooks as bsnb\n",
    "import matplotlib.pyplot as plt\n",
    "import matplotlib.dates as mdates\n",
    "\n",
    "from IPython.display import display, Markdown\n",
    "\n",
    "from utils.multitaper_spectogram_python import multitaper_spectrogram"
   ]
  },
  {
   "cell_type": "code",
   "execution_count": null,
   "metadata": {},
   "outputs": [],
   "source": [
    "vr_filepath = \"mind-wandering-152412-questions.json\"\n",
    "questions_filepath = \"mind-wandering-152412.csv\"\n",
    "plux_filepath = \"reza_mind_wandering.txt\""
   ]
  },
  {
   "cell_type": "code",
   "execution_count": 11,
   "metadata": {},
   "outputs": [
    {
     "data": {
      "text/html": [
       "<div>\n",
       "<style scoped>\n",
       "    .dataframe tbody tr th:only-of-type {\n",
       "        vertical-align: middle;\n",
       "    }\n",
       "\n",
       "    .dataframe tbody tr th {\n",
       "        vertical-align: top;\n",
       "    }\n",
       "\n",
       "    .dataframe thead th {\n",
       "        text-align: right;\n",
       "    }\n",
       "</style>\n",
       "<table border=\"1\" class=\"dataframe\">\n",
       "  <thead>\n",
       "    <tr style=\"text-align: right;\">\n",
       "      <th></th>\n",
       "      <th>nSeq</th>\n",
       "      <th>DI</th>\n",
       "      <th>CH1</th>\n",
       "      <th>CH9A</th>\n",
       "      <th>CH9B</th>\n",
       "      <th>time</th>\n",
       "    </tr>\n",
       "  </thead>\n",
       "  <tbody>\n",
       "    <tr>\n",
       "      <th>0</th>\n",
       "      <td>0.0</td>\n",
       "      <td>0.0</td>\n",
       "      <td>30760.0</td>\n",
       "      <td>0.0</td>\n",
       "      <td>0.0</td>\n",
       "      <td>2021-12-15 15:00:34.949</td>\n",
       "    </tr>\n",
       "    <tr>\n",
       "      <th>1</th>\n",
       "      <td>1.0</td>\n",
       "      <td>0.0</td>\n",
       "      <td>29304.0</td>\n",
       "      <td>0.0</td>\n",
       "      <td>0.0</td>\n",
       "      <td>2021-12-15 15:00:34.950</td>\n",
       "    </tr>\n",
       "    <tr>\n",
       "      <th>2</th>\n",
       "      <td>2.0</td>\n",
       "      <td>0.0</td>\n",
       "      <td>28484.0</td>\n",
       "      <td>4527.0</td>\n",
       "      <td>134380.0</td>\n",
       "      <td>2021-12-15 15:00:34.951</td>\n",
       "    </tr>\n",
       "    <tr>\n",
       "      <th>3</th>\n",
       "      <td>3.0</td>\n",
       "      <td>0.0</td>\n",
       "      <td>28800.0</td>\n",
       "      <td>4527.0</td>\n",
       "      <td>134380.0</td>\n",
       "      <td>2021-12-15 15:00:34.952</td>\n",
       "    </tr>\n",
       "    <tr>\n",
       "      <th>4</th>\n",
       "      <td>4.0</td>\n",
       "      <td>0.0</td>\n",
       "      <td>28840.0</td>\n",
       "      <td>105060.0</td>\n",
       "      <td>174547.0</td>\n",
       "      <td>2021-12-15 15:00:34.953</td>\n",
       "    </tr>\n",
       "    <tr>\n",
       "      <th>...</th>\n",
       "      <td>...</td>\n",
       "      <td>...</td>\n",
       "      <td>...</td>\n",
       "      <td>...</td>\n",
       "      <td>...</td>\n",
       "      <td>...</td>\n",
       "    </tr>\n",
       "    <tr>\n",
       "      <th>1445845</th>\n",
       "      <td>1445845.0</td>\n",
       "      <td>0.0</td>\n",
       "      <td>34930.0</td>\n",
       "      <td>97021.0</td>\n",
       "      <td>107321.0</td>\n",
       "      <td>2021-12-15 15:24:40.794</td>\n",
       "    </tr>\n",
       "    <tr>\n",
       "      <th>1445846</th>\n",
       "      <td>1445846.0</td>\n",
       "      <td>0.0</td>\n",
       "      <td>27624.0</td>\n",
       "      <td>96891.0</td>\n",
       "      <td>107291.0</td>\n",
       "      <td>2021-12-15 15:24:40.795</td>\n",
       "    </tr>\n",
       "    <tr>\n",
       "      <th>1445847</th>\n",
       "      <td>1445847.0</td>\n",
       "      <td>0.0</td>\n",
       "      <td>16112.0</td>\n",
       "      <td>96891.0</td>\n",
       "      <td>107291.0</td>\n",
       "      <td>2021-12-15 15:24:40.796</td>\n",
       "    </tr>\n",
       "    <tr>\n",
       "      <th>1445848</th>\n",
       "      <td>1445848.0</td>\n",
       "      <td>0.0</td>\n",
       "      <td>7238.0</td>\n",
       "      <td>97911.0</td>\n",
       "      <td>107267.0</td>\n",
       "      <td>2021-12-15 15:24:40.797</td>\n",
       "    </tr>\n",
       "    <tr>\n",
       "      <th>1445849</th>\n",
       "      <td>1445849.0</td>\n",
       "      <td>0.0</td>\n",
       "      <td>2858.0</td>\n",
       "      <td>97911.0</td>\n",
       "      <td>107267.0</td>\n",
       "      <td>2021-12-15 15:24:40.798</td>\n",
       "    </tr>\n",
       "  </tbody>\n",
       "</table>\n",
       "<p>1445850 rows × 6 columns</p>\n",
       "</div>"
      ],
      "text/plain": [
       "              nSeq   DI      CH1      CH9A      CH9B                    time\n",
       "0              0.0  0.0  30760.0       0.0       0.0 2021-12-15 15:00:34.949\n",
       "1              1.0  0.0  29304.0       0.0       0.0 2021-12-15 15:00:34.950\n",
       "2              2.0  0.0  28484.0    4527.0  134380.0 2021-12-15 15:00:34.951\n",
       "3              3.0  0.0  28800.0    4527.0  134380.0 2021-12-15 15:00:34.952\n",
       "4              4.0  0.0  28840.0  105060.0  174547.0 2021-12-15 15:00:34.953\n",
       "...            ...  ...      ...       ...       ...                     ...\n",
       "1445845  1445845.0  0.0  34930.0   97021.0  107321.0 2021-12-15 15:24:40.794\n",
       "1445846  1445846.0  0.0  27624.0   96891.0  107291.0 2021-12-15 15:24:40.795\n",
       "1445847  1445847.0  0.0  16112.0   96891.0  107291.0 2021-12-15 15:24:40.796\n",
       "1445848  1445848.0  0.0   7238.0   97911.0  107267.0 2021-12-15 15:24:40.797\n",
       "1445849  1445849.0  0.0   2858.0   97911.0  107267.0 2021-12-15 15:24:40.798\n",
       "\n",
       "[1445850 rows x 6 columns]"
      ]
     },
     "metadata": {},
     "output_type": "display_data"
    }
   ],
   "source": [
    "#plux_filepath = \"data/eyesopeneyesclosed_jack_11-15-21.txt\"\n",
    "\n",
    "with open(plux_filepath) as plux:\n",
    "    header = json.loads(plux.readlines()[1][1:])\n",
    "    \n",
    "    key = list(header.keys())[0]\n",
    "    #plux_start = header.get\n",
    "    #print(json.dumps(header[key], indent=4))\n",
    "    plux_date = header[key][\"date\"]\n",
    "    plux_time = header[key][\"time\"]\n",
    "\n",
    "    plux_start = dt.datetime.strptime(plux_date + \" \" + plux_time, \"%Y-%m-%d %H:%M:%S.%f\")\n",
    "   \n",
    "\n",
    "    plux_sampling_rate = header[key][\"sampling rate\"]\n",
    "    plux_resolution = header[key][\"resolution\"][0]\n",
    "\n",
    "    plux_columns = header[key][\"column\"]\n",
    "    #print(plux_columns)\n",
    "\n",
    "    #print(plux_sampling_rate, plux_start)\n",
    "\n",
    "plux_raw = np.loadtxt(plux_filepath, skiprows=3)\n",
    "plux_data = pd.DataFrame(plux_raw, columns=plux_columns)\n",
    "plux_data[\"time\"] = plux_data[\"nSeq\"].apply(lambda t: plux_start + dt.timedelta(seconds=t/plux_sampling_rate))\n",
    "\n",
    "display(plux_data)\n"
   ]
  },
  {
   "cell_type": "code",
   "execution_count": 12,
   "metadata": {},
   "outputs": [
    {
     "name": "stdout",
     "output_type": "stream",
     "text": [
      "Multitaper Spectrogram Properties: \n",
      "     Spectral Resolution: 0.08333333333333333Hz\n",
      "     Window Length: 120.0s\n",
      "     Window Step: 5.0s\n",
      "     Time Half-Bandwidth Product: 5\n",
      "     Number of Tapers: 9\n",
      "     Frequency Range: 2-50Hz\n",
      "     Detrend: linear\n",
      "\n",
      "\n",
      " Multitaper compute time: 31.82206819999999 seconds\n"
     ]
    },
    {
     "data": {
      "image/png": "[encoded data removed]",
      "text/plain": [
       "<Figure size 432x288 with 2 Axes>"
      ]
     },
     "metadata": {
      "needs_background": "light"
     },
     "output_type": "display_data"
    }
   ],
   "source": [
    "eeg_data = plux_data[\"CH1\"]\n",
    "\n",
    "eeg_uv = bsnb.raw_to_phy(\"EEG\", \"biosignalsplux\", eeg_data, plux_resolution, \"uV\")\n",
    "time_uv = bsnb.generate_time(eeg_uv, plux_sampling_rate)\n",
    "\n",
    "\n",
    "\n",
    "plt.title(\"Spectogram\")\n",
    "\n",
    "spect, stimes, sfreqs = multitaper_spectrogram(eeg_uv, plux_sampling_rate, frequency_range=[2, 50], window_params=[120, 5])"
   ]
  },
  {
   "cell_type": "code",
   "execution_count": 17,
   "metadata": {},
   "outputs": [
    {
     "data": {
      "text/markdown": [
       "## End of Experiment Survey Questions"
      ],
      "text/plain": [
       "<IPython.core.display.Markdown object>"
      ]
     },
     "metadata": {},
     "output_type": "display_data"
    },
    {
     "data": {
      "text/markdown": [
       "**Are you ready to begin?**"
      ],
      "text/plain": [
       "<IPython.core.display.Markdown object>"
      ]
     },
     "metadata": {},
     "output_type": "display_data"
    },
    {
     "data": {
      "text/markdown": [
       "*Yes*"
      ],
      "text/plain": [
       "<IPython.core.display.Markdown object>"
      ]
     },
     "metadata": {},
     "output_type": "display_data"
    },
    {
     "data": {
      "text/markdown": [
       "**After how many hours the pill lost its effect?**"
      ],
      "text/plain": [
       "<IPython.core.display.Markdown object>"
      ]
     },
     "metadata": {},
     "output_type": "display_data"
    },
    {
     "data": {
      "text/markdown": [
       "*2 hours*"
      ],
      "text/plain": [
       "<IPython.core.display.Markdown object>"
      ]
     },
     "metadata": {},
     "output_type": "display_data"
    },
    {
     "data": {
      "text/markdown": [
       "**Did you mind wander reading the essay?**"
      ],
      "text/plain": [
       "<IPython.core.display.Markdown object>"
      ]
     },
     "metadata": {},
     "output_type": "display_data"
    },
    {
     "data": {
      "text/markdown": [
       "*Yes*"
      ],
      "text/plain": [
       "<IPython.core.display.Markdown object>"
      ]
     },
     "metadata": {},
     "output_type": "display_data"
    },
    {
     "data": {
      "text/markdown": [
       "**Approximately, how many times did you mind wander?**"
      ],
      "text/plain": [
       "<IPython.core.display.Markdown object>"
      ]
     },
     "metadata": {},
     "output_type": "display_data"
    },
    {
     "data": {
      "text/markdown": [
       "*More than 5 times*"
      ],
      "text/plain": [
       "<IPython.core.display.Markdown object>"
      ]
     },
     "metadata": {},
     "output_type": "display_data"
    },
    {
     "data": {
      "text/markdown": [
       "**Was the essay too hard to understand?**"
      ],
      "text/plain": [
       "<IPython.core.display.Markdown object>"
      ]
     },
     "metadata": {},
     "output_type": "display_data"
    },
    {
     "data": {
      "text/markdown": [
       "*Yes*"
      ],
      "text/plain": [
       "<IPython.core.display.Markdown object>"
      ]
     },
     "metadata": {},
     "output_type": "display_data"
    },
    {
     "data": {
      "text/markdown": [
       "**Did you skip some parts of the text?**"
      ],
      "text/plain": [
       "<IPython.core.display.Markdown object>"
      ]
     },
     "metadata": {},
     "output_type": "display_data"
    },
    {
     "data": {
      "text/markdown": [
       "*Yes*"
      ],
      "text/plain": [
       "<IPython.core.display.Markdown object>"
      ]
     },
     "metadata": {},
     "output_type": "display_data"
    }
   ],
   "source": [
    "with open(\"mind-wandering-152412-questions.json\") as f:\n",
    "    questions = json.load(f)\n",
    "\n",
    "display(Markdown(\"## End of Experiment Survey Questions\"))\n",
    "\n",
    "for q in questions[\"questions\"]:\n",
    "    display(Markdown(f\"**{q['question']}**\"))\n",
    "    display(Markdown(f\"*{q['choice']}*\"))"
   ]
  }
 ],
 "metadata": {
  "interpreter": {
   "hash": "b9273d42d7649b703791489b3e8a7b3d5f6cea522a8e25f98d341c3f384f2926"
  },
  "kernelspec": {
   "display_name": "Python 3.9.9 64-bit ('venv': venv)",
   "language": "python",
   "name": "python3"
  },
  "language_info": {
   "codemirror_mode": {
    "name": "ipython",
    "version": 3
   },
   "file_extension": ".py",
   "mimetype": "text/x-python",
   "name": "python",
   "nbconvert_exporter": "python",
   "pygments_lexer": "ipython3",
   "version": "3.9.9"
  },
  "orig_nbformat": 4
 },
 "nbformat": 4,
 "nbformat_minor": 2
}
